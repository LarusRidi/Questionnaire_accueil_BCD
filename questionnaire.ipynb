{
 "cells": [
  {
   "cell_type": "markdown",
   "metadata": {},
   "source": [
    "# Analyse questionnaire page accueil BCD"
   ]
  },
  {
   "cell_type": "code",
   "execution_count": 2,
   "metadata": {},
   "outputs": [],
   "source": [
    "import pandas as pd\n",
    "import matplotlib.pyplot as plt"
   ]
  },
  {
   "cell_type": "code",
   "execution_count": 3,
   "metadata": {},
   "outputs": [],
   "source": [
    "class DictTable(dict):\n",
    "    # Overridden dict class which takes a dict in the form {'a': 2, 'b': 3},\n",
    "    # and renders an HTML Table in IPython Notebook.\n",
    "    def _repr_html_(self):\n",
    "        html = [\"<table width=30%>\"]\n",
    "        for key, value in self.items():\n",
    "            html.append(\"<tr>\")\n",
    "            html.append(\"<td><b>{0}</b></td>\".format(key))\n",
    "            html.append(\"<td>{0}</td>\".format(value))\n",
    "            html.append(\"</tr>\")\n",
    "        html.append(\"</table>\")\n",
    "        return ''.join(html)\n",
    "    \n",
    "def tri_dico(dico):\n",
    "    return {k: v for k, v in sorted(dico.items(), key=lambda item:item[1], reverse=True)}"
   ]
  },
  {
   "cell_type": "code",
   "execution_count": 4,
   "metadata": {},
   "outputs": [],
   "source": [
    "df = pd.read_excel('sondageBCD_trad.xlsx')\n",
    "#cast en type date\n",
    "df['Date de soumission'] = pd.to_datetime(df['Date de soumission'])"
   ]
  },
  {
   "cell_type": "code",
   "execution_count": 186,
   "metadata": {},
   "outputs": [
    {
     "data": {
      "text/html": [
       "<div>\n",
       "<style scoped>\n",
       "    .dataframe tbody tr th:only-of-type {\n",
       "        vertical-align: middle;\n",
       "    }\n",
       "\n",
       "    .dataframe tbody tr th {\n",
       "        vertical-align: top;\n",
       "    }\n",
       "\n",
       "    .dataframe thead th {\n",
       "        text-align: right;\n",
       "    }\n",
       "</style>\n",
       "<table border=\"1\" class=\"dataframe\">\n",
       "  <thead>\n",
       "    <tr style=\"text-align: right;\">\n",
       "      <th></th>\n",
       "      <th>ID de la réponse</th>\n",
       "      <th>Date de soumission</th>\n",
       "      <th>Dernière page</th>\n",
       "      <th>Langue de départ</th>\n",
       "      <th>Tête de série</th>\n",
       "      <th>Date de lancement</th>\n",
       "      <th>Date de la dernière action</th>\n",
       "      <th>Pourriez vous lister les missions de BCD ?</th>\n",
       "      <th>Pourriez-vous nommer les sites animés par BCD ?</th>\n",
       "      <th>Si vous avez des questions sur le patrimoine, sur quel site géré par BCD vous dirigeriez-vous ?</th>\n",
       "      <th>...</th>\n",
       "      <th>Regardez-vous la page Actualités ?</th>\n",
       "      <th>Regardez-vous le Slider ?</th>\n",
       "      <th>Classez par ordre de d'importance les informations que vous souhaiteriez trouver sur le site. [Classement 1]</th>\n",
       "      <th>Classez par ordre de d'importance les informations que vous souhaiteriez trouver sur le site. [Classement 2]</th>\n",
       "      <th>Classez par ordre de d'importance les informations que vous souhaiteriez trouver sur le site. [Classement 3]</th>\n",
       "      <th>Classez par ordre de d'importance les informations que vous souhaiteriez trouver sur le site. [Classement 4]</th>\n",
       "      <th>Classez par ordre de d'importance les informations que vous souhaiteriez trouver sur le site. [Classement 5]</th>\n",
       "      <th>Classez par ordre de d'importance les informations que vous souhaiteriez trouver sur le site. [Classement 6]</th>\n",
       "      <th>Classez par ordre de d'importance les informations que vous souhaiteriez trouver sur le site. [Classement 7]</th>\n",
       "      <th>Commentaires libres</th>\n",
       "    </tr>\n",
       "  </thead>\n",
       "  <tbody>\n",
       "    <tr>\n",
       "      <th>0</th>\n",
       "      <td>9</td>\n",
       "      <td>2020-03-09 10:46:06</td>\n",
       "      <td>2</td>\n",
       "      <td>fr</td>\n",
       "      <td>1632807564</td>\n",
       "      <td>2020-03-09 10:26:21</td>\n",
       "      <td>2020-03-09 10:46:06</td>\n",
       "      <td>- vulgariser et diffuser la culture et les sav...</td>\n",
       "      <td>Bazhalan becedia bed pci bretania</td>\n",
       "      <td>PCI</td>\n",
       "      <td>...</td>\n",
       "      <td>Oui</td>\n",
       "      <td>Non</td>\n",
       "      <td>Les différentes actions de BCD</td>\n",
       "      <td>Les partenaires</td>\n",
       "      <td>Les projets en cours</td>\n",
       "      <td>Le projet associatif</td>\n",
       "      <td>Les différents sites de BCD</td>\n",
       "      <td>Les salariés de l'association</td>\n",
       "      <td>NaN</td>\n",
       "      <td>NaN</td>\n",
       "    </tr>\n",
       "    <tr>\n",
       "      <th>2</th>\n",
       "      <td>11</td>\n",
       "      <td>2020-03-09 14:09:43</td>\n",
       "      <td>2</td>\n",
       "      <td>fr</td>\n",
       "      <td>1583135970</td>\n",
       "      <td>2020-03-09 14:08:48</td>\n",
       "      <td>2020-03-09 14:09:43</td>\n",
       "      <td>NaN</td>\n",
       "      <td>NaN</td>\n",
       "      <td>NaN</td>\n",
       "      <td>...</td>\n",
       "      <td>Non</td>\n",
       "      <td>Non</td>\n",
       "      <td>Les différents sites de BCD</td>\n",
       "      <td>Les différentes actions de BCD</td>\n",
       "      <td>NaN</td>\n",
       "      <td>NaN</td>\n",
       "      <td>NaN</td>\n",
       "      <td>NaN</td>\n",
       "      <td>NaN</td>\n",
       "      <td>NaN</td>\n",
       "    </tr>\n",
       "    <tr>\n",
       "      <th>4</th>\n",
       "      <td>13</td>\n",
       "      <td>2020-03-09 18:51:02</td>\n",
       "      <td>2</td>\n",
       "      <td>fr</td>\n",
       "      <td>2081881169</td>\n",
       "      <td>2020-03-09 18:38:34</td>\n",
       "      <td>2020-03-09 18:51:02</td>\n",
       "      <td>Non</td>\n",
       "      <td>Non</td>\n",
       "      <td>Je ne sais pas</td>\n",
       "      <td>...</td>\n",
       "      <td>NaN</td>\n",
       "      <td>Non</td>\n",
       "      <td>Les projets en cours</td>\n",
       "      <td>Le projet associatif</td>\n",
       "      <td>Les différentes actions de BCD</td>\n",
       "      <td>Les différents sites de BCD</td>\n",
       "      <td>Les partenaires</td>\n",
       "      <td>Les comptes rendus des assemblées générales</td>\n",
       "      <td>Les salariés de l'association</td>\n",
       "      <td>Je n'ai rien à ajouter, je viendrai plus souve...</td>\n",
       "    </tr>\n",
       "    <tr>\n",
       "      <th>5</th>\n",
       "      <td>14</td>\n",
       "      <td>2020-03-10 08:16:39</td>\n",
       "      <td>2</td>\n",
       "      <td>fr</td>\n",
       "      <td>1896966050</td>\n",
       "      <td>2020-03-10 08:08:52</td>\n",
       "      <td>2020-03-10 08:16:39</td>\n",
       "      <td>Vulgariser, diffuser la matière culturelle et ...</td>\n",
       "      <td>bretania\\nbed\\npci\\nTAP\\nBécédia</td>\n",
       "      <td>pci</td>\n",
       "      <td>...</td>\n",
       "      <td>Oui</td>\n",
       "      <td>Oui</td>\n",
       "      <td>Les différentes actions de BCD</td>\n",
       "      <td>Le projet associatif</td>\n",
       "      <td>Les projets en cours</td>\n",
       "      <td>Les salariés de l'association</td>\n",
       "      <td>Les comptes rendus des assemblées générales</td>\n",
       "      <td>Les partenaires</td>\n",
       "      <td>Les différents sites de BCD</td>\n",
       "      <td>NaN</td>\n",
       "    </tr>\n",
       "    <tr>\n",
       "      <th>7</th>\n",
       "      <td>16</td>\n",
       "      <td>2020-03-10 11:45:49</td>\n",
       "      <td>2</td>\n",
       "      <td>fr</td>\n",
       "      <td>2145875740</td>\n",
       "      <td>2020-03-10 11:40:51</td>\n",
       "      <td>2020-03-10 11:45:49</td>\n",
       "      <td>Valoriser la culture de Bretagne et la vulgari...</td>\n",
       "      <td>Bécédia, Bretania,</td>\n",
       "      <td>Bretania</td>\n",
       "      <td>...</td>\n",
       "      <td>Non</td>\n",
       "      <td>Oui</td>\n",
       "      <td>Les différents sites de BCD</td>\n",
       "      <td>Les différentes actions de BCD</td>\n",
       "      <td>Les partenaires</td>\n",
       "      <td>Le projet associatif</td>\n",
       "      <td>Les projets en cours</td>\n",
       "      <td>Les salariés de l'association</td>\n",
       "      <td>Les comptes rendus des assemblées générales</td>\n",
       "      <td>NaN</td>\n",
       "    </tr>\n",
       "    <tr>\n",
       "      <th>8</th>\n",
       "      <td>17</td>\n",
       "      <td>2020-03-10 12:08:45</td>\n",
       "      <td>2</td>\n",
       "      <td>fr</td>\n",
       "      <td>669932358</td>\n",
       "      <td>2020-03-10 11:51:51</td>\n",
       "      <td>2020-03-10 12:08:45</td>\n",
       "      <td>Promouvoir la diversité de la culture bretonne...</td>\n",
       "      <td>BCD, Bécédia, Bretania, PCI et BED.</td>\n",
       "      <td>Bretania et PCI</td>\n",
       "      <td>...</td>\n",
       "      <td>Oui</td>\n",
       "      <td>NaN</td>\n",
       "      <td>Les différents sites de BCD</td>\n",
       "      <td>Les différentes actions de BCD</td>\n",
       "      <td>Les projets en cours</td>\n",
       "      <td>Les partenaires</td>\n",
       "      <td>Le projet associatif</td>\n",
       "      <td>Les salariés de l'association</td>\n",
       "      <td>Les comptes rendus des assemblées générales</td>\n",
       "      <td>Merci de votre sollicitation et plein de succè...</td>\n",
       "    </tr>\n",
       "    <tr>\n",
       "      <th>9</th>\n",
       "      <td>18</td>\n",
       "      <td>2020-03-10 17:52:51</td>\n",
       "      <td>2</td>\n",
       "      <td>fr</td>\n",
       "      <td>1631548816</td>\n",
       "      <td>2020-03-10 17:44:01</td>\n",
       "      <td>2020-03-10 17:52:51</td>\n",
       "      <td>-Promouvoir la diversité cuturelle en Bretagne...</td>\n",
       "      <td>BED , Bretania, Bécédia, Bazhvalan, PCI</td>\n",
       "      <td>Bretania</td>\n",
       "      <td>...</td>\n",
       "      <td>Oui</td>\n",
       "      <td>Oui</td>\n",
       "      <td>Les différents sites de BCD</td>\n",
       "      <td>Les projets en cours</td>\n",
       "      <td>Le projet associatif</td>\n",
       "      <td>Les différentes actions de BCD</td>\n",
       "      <td>Les partenaires</td>\n",
       "      <td>Les salariés de l'association</td>\n",
       "      <td>Les comptes rendus des assemblées générales</td>\n",
       "      <td>Valoriser le rôle et la spécificité des chaque...</td>\n",
       "    </tr>\n",
       "    <tr>\n",
       "      <th>11</th>\n",
       "      <td>20</td>\n",
       "      <td>2020-03-11 11:35:56</td>\n",
       "      <td>2</td>\n",
       "      <td>fr</td>\n",
       "      <td>2128116771</td>\n",
       "      <td>2020-03-11 11:16:30</td>\n",
       "      <td>2020-03-11 11:35:55</td>\n",
       "      <td>Les missions BCD sont reprises sur association...</td>\n",
       "      <td>BCD Baltivalan Becedia BED PCI Bretania bien f...</td>\n",
       "      <td>cliquer sur les trois traits en haut à droite</td>\n",
       "      <td>...</td>\n",
       "      <td>Oui</td>\n",
       "      <td>Non</td>\n",
       "      <td>Les différents sites de BCD</td>\n",
       "      <td>Les projets en cours</td>\n",
       "      <td>Le projet associatif</td>\n",
       "      <td>Les différentes actions de BCD</td>\n",
       "      <td>Les partenaires</td>\n",
       "      <td>Les salariés de l'association</td>\n",
       "      <td>Les comptes rendus des assemblées générales</td>\n",
       "      <td>Pouvez-vous mettre une annotation pour le term...</td>\n",
       "    </tr>\n",
       "    <tr>\n",
       "      <th>12</th>\n",
       "      <td>21</td>\n",
       "      <td>2020-03-11 16:24:10</td>\n",
       "      <td>2</td>\n",
       "      <td>fr</td>\n",
       "      <td>313278344</td>\n",
       "      <td>2020-03-11 16:05:59</td>\n",
       "      <td>2020-03-11 16:24:10</td>\n",
       "      <td>BCD est une association de promotion et de dif...</td>\n",
       "      <td>PCI / Bretania / Bed / Bécédia</td>\n",
       "      <td>site PCI / Site Bretania</td>\n",
       "      <td>...</td>\n",
       "      <td>Oui</td>\n",
       "      <td>Non</td>\n",
       "      <td>Le projet associatif</td>\n",
       "      <td>Les projets en cours</td>\n",
       "      <td>Les différents sites de BCD</td>\n",
       "      <td>Les différentes actions de BCD</td>\n",
       "      <td>Les salariés de l'association</td>\n",
       "      <td>Les partenaires</td>\n",
       "      <td>Les comptes rendus des assemblées générales</td>\n",
       "      <td>NaN</td>\n",
       "    </tr>\n",
       "    <tr>\n",
       "      <th>13</th>\n",
       "      <td>22</td>\n",
       "      <td>2020-03-17 15:36:12</td>\n",
       "      <td>2</td>\n",
       "      <td>fr</td>\n",
       "      <td>1601541854</td>\n",
       "      <td>2020-03-17 15:10:43</td>\n",
       "      <td>2020-03-17 15:36:12</td>\n",
       "      <td>Ce n'est pas clair, il y abeaucoup de choses</td>\n",
       "      <td>Becedia, Bazhvalan</td>\n",
       "      <td>Je ne sais pas</td>\n",
       "      <td>...</td>\n",
       "      <td>Non</td>\n",
       "      <td>Non</td>\n",
       "      <td>Les différentes actions de BCD</td>\n",
       "      <td>Les projets en cours</td>\n",
       "      <td>Les salariés de l'association</td>\n",
       "      <td>NaN</td>\n",
       "      <td>NaN</td>\n",
       "      <td>NaN</td>\n",
       "      <td>NaN</td>\n",
       "      <td>A mon avis il serait préférable de classer les...</td>\n",
       "    </tr>\n",
       "    <tr>\n",
       "      <th>14</th>\n",
       "      <td>23</td>\n",
       "      <td>2020-03-17 16:56:33</td>\n",
       "      <td>2</td>\n",
       "      <td>fr</td>\n",
       "      <td>96946596</td>\n",
       "      <td>2020-03-17 16:45:01</td>\n",
       "      <td>2020-03-17 16:56:33</td>\n",
       "      <td>donner l'accès aux ressources sur la diversité...</td>\n",
       "      <td>bretania, bed, bécédia, bazhvalan, pci</td>\n",
       "      <td>pci</td>\n",
       "      <td>...</td>\n",
       "      <td>Non</td>\n",
       "      <td>Oui</td>\n",
       "      <td>Les différents sites de BCD</td>\n",
       "      <td>Les différentes actions de BCD</td>\n",
       "      <td>Les projets en cours</td>\n",
       "      <td>Les partenaires</td>\n",
       "      <td>Le projet associatif</td>\n",
       "      <td>Les comptes rendus des assemblées générales</td>\n",
       "      <td>Les salariés de l'association</td>\n",
       "      <td>NaN</td>\n",
       "    </tr>\n",
       "  </tbody>\n",
       "</table>\n",
       "<p>11 rows × 25 columns</p>\n",
       "</div>"
      ],
      "text/plain": [
       "    ID de la réponse  Date de soumission  Dernière page Langue de départ  \\\n",
       "0                  9 2020-03-09 10:46:06              2               fr   \n",
       "2                 11 2020-03-09 14:09:43              2               fr   \n",
       "4                 13 2020-03-09 18:51:02              2               fr   \n",
       "5                 14 2020-03-10 08:16:39              2               fr   \n",
       "7                 16 2020-03-10 11:45:49              2               fr   \n",
       "8                 17 2020-03-10 12:08:45              2               fr   \n",
       "9                 18 2020-03-10 17:52:51              2               fr   \n",
       "11                20 2020-03-11 11:35:56              2               fr   \n",
       "12                21 2020-03-11 16:24:10              2               fr   \n",
       "13                22 2020-03-17 15:36:12              2               fr   \n",
       "14                23 2020-03-17 16:56:33              2               fr   \n",
       "\n",
       "    Tête de série    Date de lancement Date de la dernière action  \\\n",
       "0      1632807564  2020-03-09 10:26:21        2020-03-09 10:46:06   \n",
       "2      1583135970  2020-03-09 14:08:48        2020-03-09 14:09:43   \n",
       "4      2081881169  2020-03-09 18:38:34        2020-03-09 18:51:02   \n",
       "5      1896966050  2020-03-10 08:08:52        2020-03-10 08:16:39   \n",
       "7      2145875740  2020-03-10 11:40:51        2020-03-10 11:45:49   \n",
       "8       669932358  2020-03-10 11:51:51        2020-03-10 12:08:45   \n",
       "9      1631548816  2020-03-10 17:44:01        2020-03-10 17:52:51   \n",
       "11     2128116771  2020-03-11 11:16:30        2020-03-11 11:35:55   \n",
       "12      313278344  2020-03-11 16:05:59        2020-03-11 16:24:10   \n",
       "13     1601541854  2020-03-17 15:10:43        2020-03-17 15:36:12   \n",
       "14       96946596  2020-03-17 16:45:01        2020-03-17 16:56:33   \n",
       "\n",
       "           Pourriez vous lister les missions de BCD ?  \\\n",
       "0   - vulgariser et diffuser la culture et les sav...   \n",
       "2                                                 NaN   \n",
       "4                                                 Non   \n",
       "5   Vulgariser, diffuser la matière culturelle et ...   \n",
       "7   Valoriser la culture de Bretagne et la vulgari...   \n",
       "8   Promouvoir la diversité de la culture bretonne...   \n",
       "9   -Promouvoir la diversité cuturelle en Bretagne...   \n",
       "11  Les missions BCD sont reprises sur association...   \n",
       "12  BCD est une association de promotion et de dif...   \n",
       "13       Ce n'est pas clair, il y abeaucoup de choses   \n",
       "14  donner l'accès aux ressources sur la diversité...   \n",
       "\n",
       "      Pourriez-vous nommer les sites animés par BCD ?  \\\n",
       "0                   Bazhalan becedia bed pci bretania   \n",
       "2                                                 NaN   \n",
       "4                                                 Non   \n",
       "5                    bretania\\nbed\\npci\\nTAP\\nBécédia   \n",
       "7                                  Bécédia, Bretania,   \n",
       "8                 BCD, Bécédia, Bretania, PCI et BED.   \n",
       "9             BED , Bretania, Bécédia, Bazhvalan, PCI   \n",
       "11  BCD Baltivalan Becedia BED PCI Bretania bien f...   \n",
       "12                     PCI / Bretania / Bed / Bécédia   \n",
       "13                                 Becedia, Bazhvalan   \n",
       "14             bretania, bed, bécédia, bazhvalan, pci   \n",
       "\n",
       "   Si vous avez des questions sur le patrimoine, sur quel site géré par BCD vous dirigeriez-vous ?  \\\n",
       "0                                                 PCI                                                \n",
       "2                                                 NaN                                                \n",
       "4                                      Je ne sais pas                                                \n",
       "5                                                 pci                                                \n",
       "7                                            Bretania                                                \n",
       "8                                     Bretania et PCI                                                \n",
       "9                                            Bretania                                                \n",
       "11      cliquer sur les trois traits en haut à droite                                                \n",
       "12                           site PCI / Site Bretania                                                \n",
       "13                                     Je ne sais pas                                                \n",
       "14                                                pci                                                \n",
       "\n",
       "    ... Regardez-vous la page Actualités ? Regardez-vous le Slider ?  \\\n",
       "0   ...                                Oui                       Non   \n",
       "2   ...                                Non                       Non   \n",
       "4   ...                                NaN                       Non   \n",
       "5   ...                                Oui                       Oui   \n",
       "7   ...                                Non                       Oui   \n",
       "8   ...                                Oui                       NaN   \n",
       "9   ...                                Oui                       Oui   \n",
       "11  ...                                Oui                       Non   \n",
       "12  ...                                Oui                       Non   \n",
       "13  ...                                Non                       Non   \n",
       "14  ...                                Non                       Oui   \n",
       "\n",
       "   Classez par ordre de d'importance les informations que vous souhaiteriez trouver sur le site. [Classement 1]  \\\n",
       "0                      Les différentes actions de BCD                                                             \n",
       "2                         Les différents sites de BCD                                                             \n",
       "4                                Les projets en cours                                                             \n",
       "5                      Les différentes actions de BCD                                                             \n",
       "7                         Les différents sites de BCD                                                             \n",
       "8                         Les différents sites de BCD                                                             \n",
       "9                         Les différents sites de BCD                                                             \n",
       "11                        Les différents sites de BCD                                                             \n",
       "12                               Le projet associatif                                                             \n",
       "13                     Les différentes actions de BCD                                                             \n",
       "14                        Les différents sites de BCD                                                             \n",
       "\n",
       "   Classez par ordre de d'importance les informations que vous souhaiteriez trouver sur le site. [Classement 2]  \\\n",
       "0                                     Les partenaires                                                             \n",
       "2                      Les différentes actions de BCD                                                             \n",
       "4                                Le projet associatif                                                             \n",
       "5                                Le projet associatif                                                             \n",
       "7                      Les différentes actions de BCD                                                             \n",
       "8                      Les différentes actions de BCD                                                             \n",
       "9                                Les projets en cours                                                             \n",
       "11                               Les projets en cours                                                             \n",
       "12                               Les projets en cours                                                             \n",
       "13                               Les projets en cours                                                             \n",
       "14                     Les différentes actions de BCD                                                             \n",
       "\n",
       "   Classez par ordre de d'importance les informations que vous souhaiteriez trouver sur le site. [Classement 3]  \\\n",
       "0                                Les projets en cours                                                             \n",
       "2                                                 NaN                                                             \n",
       "4                      Les différentes actions de BCD                                                             \n",
       "5                                Les projets en cours                                                             \n",
       "7                                     Les partenaires                                                             \n",
       "8                                Les projets en cours                                                             \n",
       "9                                Le projet associatif                                                             \n",
       "11                               Le projet associatif                                                             \n",
       "12                        Les différents sites de BCD                                                             \n",
       "13                      Les salariés de l'association                                                             \n",
       "14                               Les projets en cours                                                             \n",
       "\n",
       "   Classez par ordre de d'importance les informations que vous souhaiteriez trouver sur le site. [Classement 4]  \\\n",
       "0                                Le projet associatif                                                             \n",
       "2                                                 NaN                                                             \n",
       "4                         Les différents sites de BCD                                                             \n",
       "5                       Les salariés de l'association                                                             \n",
       "7                                Le projet associatif                                                             \n",
       "8                                     Les partenaires                                                             \n",
       "9                      Les différentes actions de BCD                                                             \n",
       "11                     Les différentes actions de BCD                                                             \n",
       "12                     Les différentes actions de BCD                                                             \n",
       "13                                                NaN                                                             \n",
       "14                                    Les partenaires                                                             \n",
       "\n",
       "   Classez par ordre de d'importance les informations que vous souhaiteriez trouver sur le site. [Classement 5]  \\\n",
       "0                         Les différents sites de BCD                                                             \n",
       "2                                                 NaN                                                             \n",
       "4                                     Les partenaires                                                             \n",
       "5         Les comptes rendus des assemblées générales                                                             \n",
       "7                                Les projets en cours                                                             \n",
       "8                                Le projet associatif                                                             \n",
       "9                                     Les partenaires                                                             \n",
       "11                                    Les partenaires                                                             \n",
       "12                      Les salariés de l'association                                                             \n",
       "13                                                NaN                                                             \n",
       "14                               Le projet associatif                                                             \n",
       "\n",
       "   Classez par ordre de d'importance les informations que vous souhaiteriez trouver sur le site. [Classement 6]  \\\n",
       "0                       Les salariés de l'association                                                             \n",
       "2                                                 NaN                                                             \n",
       "4         Les comptes rendus des assemblées générales                                                             \n",
       "5                                     Les partenaires                                                             \n",
       "7                       Les salariés de l'association                                                             \n",
       "8                       Les salariés de l'association                                                             \n",
       "9                       Les salariés de l'association                                                             \n",
       "11                      Les salariés de l'association                                                             \n",
       "12                                    Les partenaires                                                             \n",
       "13                                                NaN                                                             \n",
       "14        Les comptes rendus des assemblées générales                                                             \n",
       "\n",
       "   Classez par ordre de d'importance les informations que vous souhaiteriez trouver sur le site. [Classement 7]  \\\n",
       "0                                                 NaN                                                             \n",
       "2                                                 NaN                                                             \n",
       "4                       Les salariés de l'association                                                             \n",
       "5                         Les différents sites de BCD                                                             \n",
       "7         Les comptes rendus des assemblées générales                                                             \n",
       "8         Les comptes rendus des assemblées générales                                                             \n",
       "9         Les comptes rendus des assemblées générales                                                             \n",
       "11        Les comptes rendus des assemblées générales                                                             \n",
       "12        Les comptes rendus des assemblées générales                                                             \n",
       "13                                                NaN                                                             \n",
       "14                      Les salariés de l'association                                                             \n",
       "\n",
       "                                  Commentaires libres  \n",
       "0                                                 NaN  \n",
       "2                                                 NaN  \n",
       "4   Je n'ai rien à ajouter, je viendrai plus souve...  \n",
       "5                                                 NaN  \n",
       "7                                                 NaN  \n",
       "8   Merci de votre sollicitation et plein de succè...  \n",
       "9   Valoriser le rôle et la spécificité des chaque...  \n",
       "11  Pouvez-vous mettre une annotation pour le term...  \n",
       "12                                                NaN  \n",
       "13  A mon avis il serait préférable de classer les...  \n",
       "14                                                NaN  \n",
       "\n",
       "[11 rows x 25 columns]"
      ]
     },
     "execution_count": 186,
     "metadata": {},
     "output_type": "execute_result"
    }
   ],
   "source": [
    "df"
   ]
  },
  {
   "cell_type": "markdown",
   "metadata": {},
   "source": [
    "## données administratives"
   ]
  },
  {
   "cell_type": "code",
   "execution_count": 32,
   "metadata": {},
   "outputs": [
    {
     "name": "stdout",
     "output_type": "stream",
     "text": [
      "Date du premier questionnaire : 09/03/2020, 10:46:06\n",
      "Date du dernier questionnaire : 17/03/2020, 16:56:33\n",
      "Nombre de réponses : 16\n",
      "Nombre de réponses complètes : 11\n",
      "Nombre de réponses incomplètes : 5\n",
      "Les \"réponses incomplètes\" sont vides, on les enlèves donc\n"
     ]
    }
   ],
   "source": [
    "print(f\"Date du premier questionnaire : {df['Date de soumission'].min().strftime('%d/%m/%Y, %H:%M:%S')}\")\n",
    "print(f\"Date du dernier questionnaire : {df['Date de soumission'].max().strftime('%d/%m/%Y, %H:%M:%S')}\")\n",
    "print(f\"Nombre de réponses : {df.shape[0]}\")\n",
    "complet = df['Dernière page'].value_counts().to_dict()\n",
    "print(f\"Nombre de réponses complètes : {complet[2]}\")\n",
    "print(f\"Nombre de réponses incomplètes : {complet[0] + complet[1]}\")\n",
    "print(\"Les \\\"réponses incomplètes\\\" sont vides, on les enlèves donc\")"
   ]
  },
  {
   "cell_type": "code",
   "execution_count": 36,
   "metadata": {},
   "outputs": [
    {
     "name": "stdout",
     "output_type": "stream",
     "text": [
      "Liste des questions :\n",
      " - ID de la réponse\n",
      " - Date de soumission\n",
      " - Dernière page\n",
      " - Langue de départ\n",
      " - Tête de série\n",
      " - Date de lancement\n",
      " - Date de la dernière action\n",
      " - Pourriez vous lister les missions de BCD ?\n",
      " - Pourriez-vous nommer les sites animés par BCD ?\n",
      " - Si vous avez des questions sur le patrimoine, sur quel site géré par BCD vous dirigeriez-vous ?\n",
      " - Si vous aviez des questions sur l'histoire de Bretagne, sur quel site de BCD iriez-vous faire des recherches ?\n",
      " - Comment avez-vous trouvé la navigation sur le site de BCD ? Facile, compliqué etc...\n",
      " - Pourriez-vous citer une action menée par BCD ?\n",
      " - Les termes utilisés sur le site vous paraissent-ils clairs ?\n",
      " - Lesquels vous paraissent peu explicites ?\n",
      " - Regardez-vous la page Actualités ?\n",
      " - Regardez-vous le Slider ?\n",
      " - Classez par ordre de d'importance les informations que vous souhaiteriez trouver sur le site. [Classement 1]\n",
      " - Classez par ordre de d'importance les informations que vous souhaiteriez trouver sur le site. [Classement 2]\n",
      " - Classez par ordre de d'importance les informations que vous souhaiteriez trouver sur le site. [Classement 3]\n",
      " - Classez par ordre de d'importance les informations que vous souhaiteriez trouver sur le site. [Classement 4]\n",
      " - Classez par ordre de d'importance les informations que vous souhaiteriez trouver sur le site. [Classement 5]\n",
      " - Classez par ordre de d'importance les informations que vous souhaiteriez trouver sur le site. [Classement 6]\n",
      " - Classez par ordre de d'importance les informations que vous souhaiteriez trouver sur le site. [Classement 7]\n",
      " - Commentaires libres\n"
     ]
    }
   ],
   "source": [
    "df = df[df['Date de soumission'].notnull()]\n",
    "l_questions = df.columns\n",
    "print('Liste des questions :')\n",
    "for q in l_questions:\n",
    "    print(f\" - {q}\")"
   ]
  },
  {
   "cell_type": "markdown",
   "metadata": {},
   "source": [
    "## Q1 : _Pourriez-vous lister les missions de BCD ?_\n",
    "Les catégories attendues sont :\n",
    " - Vulgariser, diffuser la matière culturelle et les savoirs de Bretagne,\n",
    " - Réaliser un inventaire permanent du Patrimoine Culturel Immatériel (PCI) breton,\n",
    " - Promouvoir la diversité culturelle,\n",
    " - Favoriser l’accessibilité et valoriser les contenus culturels et scientifiques relatifs à la Bretagne par le biais des nouvelles technologies de l’information et de la communication.\n",
    " \n",
    "__Il est à noter que sont abordés : la formation, Bretania, public jeune et Bazvalan__"
   ]
  },
  {
   "cell_type": "code",
   "execution_count": 85,
   "metadata": {},
   "outputs": [
    {
     "name": "stdout",
     "output_type": "stream",
     "text": [
      "Nombre de réponses : 10\n"
     ]
    }
   ],
   "source": [
    "q1 = 'Pourriez vous lister les missions de BCD ?'\n",
    "print(f\"Nombre de réponses : {len(df[q1].dropna())}\")"
   ]
  },
  {
   "cell_type": "code",
   "execution_count": 87,
   "metadata": {},
   "outputs": [
    {
     "name": "stdout",
     "output_type": "stream",
     "text": [
      "- vulgariser et diffuser la culture et les savoirs bretons\n",
      "- réaliser une inventaire du patrimoine culturel immatériel \n",
      "- promouvoir la diversité culturelle \n",
      "- favoriser l’accès et valoriser les contenus\n",
      "---\n",
      "Non\n",
      "---\n",
      "Vulgariser, diffuser la matière culturelle et les savoirs de Bretagne,\n",
      "Réaliser un inventaire permanent du Patrimoine Culturel Immatériel (PCI) breton,\n",
      "Promouvoir la diversité culturelle,\n",
      "Favoriser l’accessibilité et valoriser les contenus culturels et scientifiques relatifs à la Bretagne par le biais des nouvelles technologies de l’information et de la communication.\n",
      "---\n",
      "Valoriser la culture de Bretagne et la vulgariser, animer un réseau de collaborateurs culturels, gestion du portail des cultures de Bretagne\n",
      "---\n",
      "Promouvoir la diversité de la culture bretonne et proposer différents médias, qui permettent de mieux connaitre et comprendre cette diversité.\n",
      "---\n",
      "-Promouvoir la diversité cuturelle en Bretagne ( sites BED , Bretania et Bécédia  et expo itinérante) \n",
      "- Recenser les locuteurs bretons ou gallo de naissance qui sont prêts à rencontrer des apprenants\n",
      "- faire un inventaire du patrimoine culturel immatériel breton\n",
      "- atteindre le jeune public via Solenn ha Plop\n",
      "- former les professionnels de l'animation sur la culture bretonne  et la diversité culturelle\n",
      "---\n",
      "Les missions BCD sont reprises sur association et qui sommes nous. Diffuser culturel et savoirs sur la Bretagne. Inventaire patrimoine culturel breton. Parler des choix culturels.utiliser nouvelles technologies informations et communication pour faire connaître la culture bretonne.\n",
      "---\n",
      "BCD est une association de promotion et de diffusion de la matière culturelle de Bretagne. Ses missions sont : vulgariser et diffuser la matière culturelle de Bretagne / Réaliser un inventaire du Patrimoine Culturel Immatériel de Bretagne / Promouvoir la diversité culturelle\n",
      "---\n",
      "Ce n'est pas clair, il y abeaucoup de choses\n",
      "---\n",
      "donner l'accès aux ressources sur la diversité culturelle ; promouvoir la diversité culturelle ; réaliser un inventaire du patrimoine immatériel\n",
      "---\n"
     ]
    }
   ],
   "source": [
    "for reponse in df[q1].dropna().values:\n",
    "    print(reponse)\n",
    "    print('---')"
   ]
  },
  {
   "cell_type": "code",
   "execution_count": 93,
   "metadata": {},
   "outputs": [
    {
     "data": {
      "text/html": [
       "<table width=30%><tr><td><b>pci</b></td><td>6</td></tr><tr><td><b>diversité culturelles</b></td><td>6</td></tr><tr><td><b>matière culturelle</b></td><td>5</td></tr><tr><td><b>autre</b></td><td>5</td></tr><tr><td><b>valoriser TIC</b></td><td>3</td></tr><tr><td><b>non</b></td><td>2</td></tr></table>"
      ],
      "text/plain": [
       "{'pci': 6,\n",
       " 'diversité culturelles': 6,\n",
       " 'matière culturelle': 5,\n",
       " 'autre': 5,\n",
       " 'valoriser TIC': 3,\n",
       " 'non': 2}"
      ]
     },
     "metadata": {},
     "output_type": "display_data"
    },
    {
     "name": "stdout",
     "output_type": "stream",
     "text": [
      "NB : Attention aux écarts de % sur de petits effectifs\n"
     ]
    },
    {
     "data": {
      "image/png": "[encoded data removed]",
      "text/plain": [
       "<Figure size 432x288 with 1 Axes>"
      ]
     },
     "metadata": {},
     "output_type": "display_data"
    }
   ],
   "source": [
    "reponses1 = {\n",
    "    'matière culturelle':5,\n",
    "    'pci':6,\n",
    "    'diversité culturelles':6,\n",
    "    'valoriser TIC':3,\n",
    "    'non':2,\n",
    "    'autre':5\n",
    "}\n",
    "\n",
    "plt.pie(reponses1.values(), labels=reponses1.keys(),autopct='%1.1f%%');\n",
    "plt.title(df[q1].name)\n",
    "display(DictTable(tri_dico(reponses1)))\n",
    "print('NB : Attention aux écarts de % sur de petits effectifs')"
   ]
  },
  {
   "cell_type": "markdown",
   "metadata": {},
   "source": [
    "2 personnes ne peuvent pas répondre."
   ]
  },
  {
   "cell_type": "markdown",
   "metadata": {},
   "source": [
    "## Q2 : _Pourriez-vous nommer les sites animés par BCD ?_\n",
    "Les réponses attendues sont :\n",
    "- BCD\n",
    "- Bazhvalan\n",
    "- Bécédia\n",
    "- BED\n",
    "- PCI  \n",
    "- Bretania"
   ]
  },
  {
   "cell_type": "code",
   "execution_count": 90,
   "metadata": {},
   "outputs": [
    {
     "name": "stdout",
     "output_type": "stream",
     "text": [
      "Nombre de réponses : 10\n"
     ]
    }
   ],
   "source": [
    "q2 = 'Pourriez-vous nommer les sites animés par BCD ?'\n",
    "print(f\"Nombre de réponses : {len(df[q2].dropna())}\")"
   ]
  },
  {
   "cell_type": "code",
   "execution_count": 94,
   "metadata": {},
   "outputs": [
    {
     "name": "stdout",
     "output_type": "stream",
     "text": [
      "Bazhalan becedia bed pci bretania\n",
      "---\n",
      "Non\n",
      "---\n",
      "bretania\n",
      "bed\n",
      "pci\n",
      "TAP\n",
      "Bécédia\n",
      "---\n",
      "Bécédia, Bretania,\n",
      "---\n",
      "BCD, Bécédia, Bretania, PCI et BED.\n",
      "---\n",
      "BED , Bretania, Bécédia, Bazhvalan, PCI\n",
      "---\n",
      "BCD Baltivalan Becedia BED PCI Bretania bien fait pour un novice car repris en haut de la page lorsque l on navigue\n",
      "---\n",
      "PCI / Bretania / Bed / Bécédia\n",
      "---\n",
      "Becedia, Bazhvalan\n",
      "---\n",
      "bretania, bed, bécédia, bazhvalan, pci\n",
      "---\n"
     ]
    }
   ],
   "source": [
    "for reponse in df[q2].dropna().values:\n",
    "    print(reponse)\n",
    "    print('---')"
   ]
  },
  {
   "cell_type": "code",
   "execution_count": 95,
   "metadata": {},
   "outputs": [
    {
     "data": {
      "text/html": [
       "<table width=30%><tr><td><b>Bécédia</b></td><td>8</td></tr><tr><td><b>Bretania</b></td><td>8</td></tr><tr><td><b>Bed</b></td><td>7</td></tr><tr><td><b>PCI</b></td><td>7</td></tr><tr><td><b>Bazvalan</b></td><td>3</td></tr><tr><td><b>BCD</b></td><td>2</td></tr><tr><td><b>TAP</b></td><td>1</td></tr><tr><td><b>non</b></td><td>1</td></tr></table>"
      ],
      "text/plain": [
       "{'Bécédia': 8,\n",
       " 'Bretania': 8,\n",
       " 'Bed': 7,\n",
       " 'PCI': 7,\n",
       " 'Bazvalan': 3,\n",
       " 'BCD': 2,\n",
       " 'TAP': 1,\n",
       " 'non': 1}"
      ]
     },
     "metadata": {},
     "output_type": "display_data"
    },
    {
     "name": "stdout",
     "output_type": "stream",
     "text": [
      "NB : Attention aux écarts de % sur de petits effectifs\n"
     ]
    },
    {
     "data": {
      "image/png": "[encoded data removed]",
      "text/plain": [
       "<Figure size 432x288 with 1 Axes>"
      ]
     },
     "metadata": {},
     "output_type": "display_data"
    }
   ],
   "source": [
    "reponses2 = {\n",
    "    'BCD':2,\n",
    "    'Bazvalan':3,\n",
    "    'Bécédia':8,\n",
    "    'Bed':7,\n",
    "    'PCI':7,\n",
    "    'Bretania':8,\n",
    "    'TAP':1,\n",
    "    'non':1\n",
    "}\n",
    "plt.pie(reponses2.values(), labels=reponses2.keys(),autopct='%1.1f%%');\n",
    "plt.title(df[q2].name)\n",
    "display(DictTable(tri_dico(reponses2)))\n",
    "print('NB : Attention aux écarts de % sur de petits effectifs')"
   ]
  },
  {
   "cell_type": "markdown",
   "metadata": {},
   "source": [
    "## Q3 : _Si vous avez des questions sur le patrimoine, sur quel site géré par BCD vous dirigeriez-vous ?_\n",
    "Les réponses attendues : Bretania et PCI"
   ]
  },
  {
   "cell_type": "code",
   "execution_count": 96,
   "metadata": {},
   "outputs": [
    {
     "name": "stdout",
     "output_type": "stream",
     "text": [
      "Nombre de réponses : 10\n"
     ]
    }
   ],
   "source": [
    "q3 = 'Si vous avez des questions sur le patrimoine, sur quel site géré par BCD vous dirigeriez-vous ?'\n",
    "print(f\"Nombre de réponses : {len(df[q3].dropna())}\")"
   ]
  },
  {
   "cell_type": "code",
   "execution_count": 97,
   "metadata": {},
   "outputs": [
    {
     "name": "stdout",
     "output_type": "stream",
     "text": [
      "PCI\n",
      "---\n",
      "Je ne sais pas\n",
      "---\n",
      "pci\n",
      "---\n",
      "Bretania\n",
      "---\n",
      "Bretania et PCI\n",
      "---\n",
      "Bretania\n",
      "---\n",
      "cliquer sur les trois traits en haut à droite\n",
      "---\n",
      "site PCI / Site Bretania\n",
      "---\n",
      "Je ne sais pas\n",
      "---\n",
      "pci\n",
      "---\n"
     ]
    }
   ],
   "source": [
    "for reponse in df[q3].dropna().values:\n",
    "    print(reponse)\n",
    "    print('---')"
   ]
  },
  {
   "cell_type": "code",
   "execution_count": 98,
   "metadata": {},
   "outputs": [
    {
     "data": {
      "text/html": [
       "<table width=30%><tr><td><b>PCI</b></td><td>5</td></tr><tr><td><b>Bretania</b></td><td>4</td></tr><tr><td><b>non</b></td><td>2</td></tr><tr><td><b>autre</b></td><td>1</td></tr></table>"
      ],
      "text/plain": [
       "{'PCI': 5, 'Bretania': 4, 'non': 2, 'autre': 1}"
      ]
     },
     "metadata": {},
     "output_type": "display_data"
    },
    {
     "name": "stdout",
     "output_type": "stream",
     "text": [
      "NB : Attention aux écarts de % sur de petits effectifs\n"
     ]
    },
    {
     "data": {
      "image/png": "[encoded data removed]",
      "text/plain": [
       "<Figure size 432x288 with 1 Axes>"
      ]
     },
     "metadata": {},
     "output_type": "display_data"
    }
   ],
   "source": [
    "reponses3 = {\n",
    "    'PCI':5,\n",
    "    'Bretania':4,\n",
    "    'autre':1,\n",
    "    'non':2\n",
    "}\n",
    "plt.pie(reponses3.values(), labels=reponses3.keys(),autopct='%1.1f%%');\n",
    "plt.title(df[q3].name)\n",
    "display(DictTable(tri_dico(reponses3)))\n",
    "print('NB : Attention aux écarts de % sur de petits effectifs')"
   ]
  },
  {
   "cell_type": "markdown",
   "metadata": {},
   "source": [
    "## Q4 : _Si vous aviez des questions sur l'histoire de Bretagne, sur quel site de BCD iriez-vous faire des recherches ?_\n",
    "La réponse attendue est : Bécédia"
   ]
  },
  {
   "cell_type": "code",
   "execution_count": 102,
   "metadata": {},
   "outputs": [
    {
     "name": "stdout",
     "output_type": "stream",
     "text": [
      "Nombre de réponses : 10\n"
     ]
    }
   ],
   "source": [
    "q4 = \"Si vous aviez des questions sur l'histoire de Bretagne, \\\n",
    "sur quel site de BCD iriez-vous faire des recherches ?\"\n",
    "print('Nombre de réponses : {}'.format(len(df[q4].dropna())))"
   ]
  },
  {
   "cell_type": "code",
   "execution_count": 103,
   "metadata": {},
   "outputs": [
    {
     "name": "stdout",
     "output_type": "stream",
     "text": [
      "Becedia\n",
      "---\n",
      "Je ne sais pas\n",
      "---\n",
      "Bécédia\n",
      "---\n",
      "Bécédia\n",
      "---\n",
      "BCD, Bretania et PCI . En fait, tout dépend de la thématique et du type de média recherché (?)\n",
      "---\n",
      "Bretania\n",
      "---\n",
      "site projects\n",
      "---\n",
      "Site Bécédia\n",
      "---\n",
      "Je ne sais pas\n",
      "---\n",
      "bécédia\n",
      "---\n"
     ]
    }
   ],
   "source": [
    "for reponse in df[q4].dropna().values:\n",
    "    print(reponse)\n",
    "    print('---')"
   ]
  },
  {
   "cell_type": "code",
   "execution_count": 104,
   "metadata": {},
   "outputs": [
    {
     "data": {
      "text/html": [
       "<table width=30%><tr><td><b>Bécédia</b></td><td>5</td></tr><tr><td><b>Bretania</b></td><td>2</td></tr><tr><td><b>non</b></td><td>2</td></tr><tr><td><b>BCD</b></td><td>1</td></tr><tr><td><b>PCI</b></td><td>1</td></tr><tr><td><b>autre</b></td><td>1</td></tr></table>"
      ],
      "text/plain": [
       "{'Bécédia': 5, 'Bretania': 2, 'non': 2, 'BCD': 1, 'PCI': 1, 'autre': 1}"
      ]
     },
     "metadata": {},
     "output_type": "display_data"
    },
    {
     "name": "stdout",
     "output_type": "stream",
     "text": [
      "NB : Attention aux écarts de % sur de petits effectifs\n"
     ]
    },
    {
     "data": {
      "image/png": "[encoded data removed]",
      "text/plain": [
       "<Figure size 432x288 with 1 Axes>"
      ]
     },
     "metadata": {},
     "output_type": "display_data"
    }
   ],
   "source": [
    "reponses4 = {\n",
    "    'Bécédia':5,\n",
    "    'Bretania':2,\n",
    "    'BCD':1,\n",
    "    'PCI':1,\n",
    "    'autre':1,\n",
    "    'non':2\n",
    "}\n",
    "plt.pie(reponses4.values(), labels=reponses4.keys(),autopct='%1.1f%%');\n",
    "plt.title(df[q4].name)\n",
    "display(DictTable(tri_dico(reponses4)))\n",
    "print('NB : Attention aux écarts de % sur de petits effectifs')"
   ]
  },
  {
   "cell_type": "markdown",
   "metadata": {},
   "source": [
    "## Q5 : _Comment avez-vous trouvé la navigation sur le site de BCD ? Facile, compliqué etc..._"
   ]
  },
  {
   "cell_type": "code",
   "execution_count": 105,
   "metadata": {},
   "outputs": [
    {
     "name": "stdout",
     "output_type": "stream",
     "text": [
      "Nombre de réponses : 10\n"
     ]
    }
   ],
   "source": [
    "q5 = \"Comment avez-vous trouvé la navigation sur le site de BCD ? Facile, compliqué etc...\"\n",
    "print('Nombre de réponses : {}'.format(len(df[q5].dropna())))"
   ]
  },
  {
   "cell_type": "code",
   "execution_count": 106,
   "metadata": {},
   "outputs": [
    {
     "name": "stdout",
     "output_type": "stream",
     "text": [
      "Facile, petit bémol sur la liste des sites de BCD, c’est écrit trop petit.\n",
      "---\n",
      "Correcte, malgré quelques anomalies mineures (ex : selon les cas, le changement de page génère ou non un nouvel onglet).\n",
      "---\n",
      "Simple, fluide.\n",
      "Information facile d'acces\n",
      "Style épuré\n",
      "---\n",
      "Facile\n",
      "---\n",
      "A la fois très facile et agréable pour une découverte générale et un peu compliquée, à dire vrai, pour la recherche d'un sujet précis.\n",
      "---\n",
      "pas assez intuitive\n",
      "---\n",
      "Facile peut être préciser pour les novices de façon bref à côté d association projects etc ...un mot clef exemple patrimoine histoire actions BCD etc....\n",
      "---\n",
      "facile\n",
      "Beaucoup d'informations\n",
      "---\n",
      "C'est difficile, je ne sais où sont les choses. Il y  a des éléments que j'ai déjà vu sur le site mais il m'est difficile de les retrouver.\n",
      "---\n",
      "la navigation n'est pas facile car le site et ses rubriques est plutôt dense. La distinction entre les différents sites ; bécédia, bretania n'est pas évidente. J'ai pu répondre aux questions précédentes en cliquant sur chacun des sites dédiés sinon je n'aurais pas su choisir.\n",
      "---\n"
     ]
    }
   ],
   "source": [
    "for reponse in df[q5].dropna().values:\n",
    "    print(reponse)\n",
    "    print('---')"
   ]
  },
  {
   "cell_type": "code",
   "execution_count": 107,
   "metadata": {},
   "outputs": [
    {
     "data": {
      "text/html": [
       "<table width=30%><tr><td><b>positif</b></td><td>7</td></tr><tr><td><b>negatif</b></td><td>3</td></tr></table>"
      ],
      "text/plain": [
       "{'positif': 7, 'negatif': 3}"
      ]
     },
     "metadata": {},
     "output_type": "display_data"
    },
    {
     "data": {
      "image/png": "[encoded data removed]",
      "text/plain": [
       "<Figure size 432x288 with 1 Axes>"
      ]
     },
     "metadata": {},
     "output_type": "display_data"
    }
   ],
   "source": [
    "reponses5 = {\n",
    "    'positif':7,\n",
    "    'negatif':3\n",
    "}\n",
    "plt.pie(reponses5.values(), labels=reponses5.keys(),autopct='%1.1f%%');\n",
    "plt.title(df[q5].name)\n",
    "display(DictTable(tri_dico(reponses5)))"
   ]
  },
  {
   "cell_type": "markdown",
   "metadata": {},
   "source": [
    "__Points négatifs__ :\n",
    "- Bandeau des sites trop petit\n",
    "- Pas de cohérence pour les liens (_blank, _parent etc.)\n",
    "- Peu intuitif\n",
    "- Difficile de trouver, et retrouver les infos\n",
    "- Information trop dense\n",
    "- Difficulté à comprendre le rôle de chaque site\n",
    "- Recherche compliqué\n",
    "\n",
    "__Points positifs__ :\n",
    "- Simplicité\n",
    "- Fluidité\n",
    "- Facile\n",
    "- Visuellement agréable"
   ]
  },
  {
   "cell_type": "markdown",
   "metadata": {},
   "source": [
    "## Q6 : _Pourriez-vous citer une action menée par BCD ?_"
   ]
  },
  {
   "cell_type": "code",
   "execution_count": 108,
   "metadata": {},
   "outputs": [
    {
     "name": "stdout",
     "output_type": "stream",
     "text": [
      "Nombre de réponses : 10\n"
     ]
    }
   ],
   "source": [
    "q6 = \"Pourriez-vous citer une action menée par BCD ?\"\n",
    "print('Nombre de réponses : {}'.format(len(df[q6].dropna())))"
   ]
  },
  {
   "cell_type": "code",
   "execution_count": 109,
   "metadata": {},
   "outputs": [
    {
     "name": "stdout",
     "output_type": "stream",
     "text": [
      "Intervention auprès du public (dessin animé pour les jeunes, formation, expositions...)\n",
      "---\n",
      "Je n'ai pas pris le temps d'approfondir le contenu, car je me suis concentré sur l'ergonomie.\n",
      "---\n",
      "Mise en place d’actions d’inventaire, de valorisation et de promotion en partenariat avec les personnes ressources du territoire.\n",
      "---\n",
      "Bazhvalan : mise en relation de brittophones de naissance et d'apprenants\n",
      "---\n",
      "Les conférences d'histoire (les âges d'or de la Bretagne)\n",
      "---\n",
      "emission radio Sevennadurioù\n",
      "---\n",
      "les actions BCD sont reprises dans qui sommes nous\n",
      "---\n",
      "Action de formation à destination des personnels encadrant de jeunes enfants\n",
      "---\n",
      "La création de \"Spot\".\n",
      "---\n",
      "la mise en place de l'exposition itinérante \"bretagne et diversité\".\n",
      "---\n"
     ]
    }
   ],
   "source": [
    "for reponse in df[q6].dropna().values:\n",
    "    print(reponse)\n",
    "    print('---')"
   ]
  },
  {
   "cell_type": "code",
   "execution_count": 110,
   "metadata": {},
   "outputs": [
    {
     "data": {
      "text/html": [
       "<table width=30%><tr><td><b>animation</b></td><td>1</td></tr><tr><td><b>non</b></td><td>1</td></tr><tr><td><b>inventaire</b></td><td>1</td></tr><tr><td><b>bazhvalan</b></td><td>1</td></tr><tr><td><b>conférences age d'or</b></td><td>1</td></tr><tr><td><b>radio</b></td><td>1</td></tr><tr><td><b>formation</b></td><td>1</td></tr><tr><td><b>vidéos</b></td><td>1</td></tr><tr><td><b>expositions</b></td><td>1</td></tr></table>"
      ],
      "text/plain": [
       "{'animation': 1,\n",
       " 'non': 1,\n",
       " 'inventaire': 1,\n",
       " 'bazhvalan': 1,\n",
       " \"conférences age d'or\": 1,\n",
       " 'radio': 1,\n",
       " 'formation': 1,\n",
       " 'vidéos': 1,\n",
       " 'expositions': 1}"
      ]
     },
     "metadata": {},
     "output_type": "display_data"
    },
    {
     "data": {
      "image/png": "[encoded data removed]",
      "text/plain": [
       "<Figure size 432x288 with 1 Axes>"
      ]
     },
     "metadata": {},
     "output_type": "display_data"
    }
   ],
   "source": [
    "reponses6 = {\n",
    "    'animation':1,\n",
    "    'non':1,\n",
    "    'inventaire':1,\n",
    "    'bazhvalan':1,\n",
    "    'conférences age d\\'or':1,\n",
    "    'radio':1,\n",
    "    'formation':1,\n",
    "    'vidéos':1,\n",
    "    'expositions':1\n",
    "}\n",
    "plt.pie(reponses6.values(), labels=reponses6.keys(),autopct='%1.1f%%');\n",
    "plt.title(df[q6].name)\n",
    "display(DictTable(tri_dico(reponses6)))"
   ]
  },
  {
   "cell_type": "markdown",
   "metadata": {},
   "source": [
    "Les réponses sont très \"dispersées\", il n'y a pas __une__ action qui ressort"
   ]
  },
  {
   "cell_type": "markdown",
   "metadata": {},
   "source": [
    "## Q7 : _Les termes utilisés sur le site vous paraissent-ils clairs ?_"
   ]
  },
  {
   "cell_type": "code",
   "execution_count": 111,
   "metadata": {},
   "outputs": [
    {
     "name": "stdout",
     "output_type": "stream",
     "text": [
      "Nombre de réponses : 10\n"
     ]
    }
   ],
   "source": [
    "q7 = \"Les termes utilisés sur le site vous paraissent-ils clairs ?\"\n",
    "print('Nombre de réponses : {}'.format(len(df[q7].dropna())))"
   ]
  },
  {
   "cell_type": "code",
   "execution_count": 112,
   "metadata": {},
   "outputs": [
    {
     "name": "stdout",
     "output_type": "stream",
     "text": [
      "Oui\n",
      "---\n",
      "Non\n",
      "---\n",
      "Oui\n",
      "---\n",
      "Oui\n",
      "---\n",
      "Oui\n",
      "---\n",
      "Oui\n",
      "---\n",
      "Oui\n",
      "---\n",
      "Oui\n",
      "---\n",
      "Oui\n",
      "---\n",
      "Non\n",
      "---\n"
     ]
    }
   ],
   "source": [
    "for reponse in df[q7].dropna().values:\n",
    "    print(reponse)\n",
    "    print('---')"
   ]
  },
  {
   "cell_type": "code",
   "execution_count": 114,
   "metadata": {},
   "outputs": [
    {
     "data": {
      "text/html": [
       "<table width=30%><tr><td><b>oui</b></td><td>8</td></tr><tr><td><b>non</b></td><td>2</td></tr></table>"
      ],
      "text/plain": [
       "{'oui': 8, 'non': 2}"
      ]
     },
     "metadata": {},
     "output_type": "display_data"
    },
    {
     "data": {
      "image/png": "[encoded data removed]",
      "text/plain": [
       "<Figure size 432x288 with 1 Axes>"
      ]
     },
     "metadata": {},
     "output_type": "display_data"
    }
   ],
   "source": [
    "reponses7 = {\n",
    "    'oui':df[q7].value_counts()[0],\n",
    "    'non':df[q7].value_counts()[1]\n",
    "}\n",
    "plt.pie(reponses7.values(), labels=reponses7.keys(),autopct='%1.1f%%');\n",
    "plt.title(df[q7].name)\n",
    "display(DictTable(tri_dico(reponses7)))"
   ]
  },
  {
   "cell_type": "markdown",
   "metadata": {},
   "source": [
    "## Q8 : _Lesquels vous paraissent peu explicites ?_"
   ]
  },
  {
   "cell_type": "code",
   "execution_count": 115,
   "metadata": {},
   "outputs": [
    {
     "name": "stdout",
     "output_type": "stream",
     "text": [
      "Nombre de réponses : 1\n"
     ]
    }
   ],
   "source": [
    "q8 = \"Lesquels vous paraissent peu explicites ?\"\n",
    "print('Nombre de réponses : {}'.format(len(df[q8].dropna())))"
   ]
  },
  {
   "cell_type": "code",
   "execution_count": 116,
   "metadata": {},
   "outputs": [
    {
     "name": "stdout",
     "output_type": "stream",
     "text": [
      "Tout\n",
      "---\n"
     ]
    }
   ],
   "source": [
    "for reponse in df[q8].dropna().values:\n",
    "    print(reponse)\n",
    "    print('---')"
   ]
  },
  {
   "cell_type": "markdown",
   "metadata": {},
   "source": [
    "## Q9 : _Regardez-vous la page Actualités ?_"
   ]
  },
  {
   "cell_type": "code",
   "execution_count": 117,
   "metadata": {},
   "outputs": [
    {
     "name": "stdout",
     "output_type": "stream",
     "text": [
      "Nombre de réponses : 10\n"
     ]
    }
   ],
   "source": [
    "q9 = \"Regardez-vous la page Actualités ?\"\n",
    "print('Nombre de réponses : {}'.format(len(df[q9].dropna())))"
   ]
  },
  {
   "cell_type": "code",
   "execution_count": 118,
   "metadata": {},
   "outputs": [
    {
     "name": "stdout",
     "output_type": "stream",
     "text": [
      "Oui\n",
      "---\n",
      "Non\n",
      "---\n",
      "Oui\n",
      "---\n",
      "Non\n",
      "---\n",
      "Oui\n",
      "---\n",
      "Oui\n",
      "---\n",
      "Oui\n",
      "---\n",
      "Oui\n",
      "---\n",
      "Non\n",
      "---\n",
      "Non\n",
      "---\n"
     ]
    }
   ],
   "source": [
    "for reponse in df[q9].dropna().values:\n",
    "    print(reponse)\n",
    "    print('---')"
   ]
  },
  {
   "cell_type": "code",
   "execution_count": 119,
   "metadata": {},
   "outputs": [
    {
     "data": {
      "text/html": [
       "<table width=30%><tr><td><b>oui</b></td><td>6</td></tr><tr><td><b>non</b></td><td>4</td></tr></table>"
      ],
      "text/plain": [
       "{'oui': 6, 'non': 4}"
      ]
     },
     "metadata": {},
     "output_type": "display_data"
    },
    {
     "data": {
      "image/png": "[encoded data removed]",
      "text/plain": [
       "<Figure size 432x288 with 1 Axes>"
      ]
     },
     "metadata": {},
     "output_type": "display_data"
    }
   ],
   "source": [
    "reponses9 = {\n",
    "    'oui':df[q9].value_counts()[0],\n",
    "    'non':df[q9].value_counts()[1]\n",
    "}\n",
    "plt.pie(reponses9.values(), labels=reponses9.keys(),autopct='%1.1f%%');\n",
    "plt.title(df[q9].name)\n",
    "display(DictTable(tri_dico(reponses9)))"
   ]
  },
  {
   "cell_type": "markdown",
   "metadata": {},
   "source": [
    "## Q10 : _Regardez-vous le Slider ?_"
   ]
  },
  {
   "cell_type": "code",
   "execution_count": 120,
   "metadata": {},
   "outputs": [
    {
     "name": "stdout",
     "output_type": "stream",
     "text": [
      "Nombre de réponses : 10\n"
     ]
    }
   ],
   "source": [
    "q10 = \"Regardez-vous le Slider ?\"\n",
    "print('Nombre de réponses : {}'.format(len(df[q10].dropna())))"
   ]
  },
  {
   "cell_type": "code",
   "execution_count": 121,
   "metadata": {},
   "outputs": [
    {
     "name": "stdout",
     "output_type": "stream",
     "text": [
      "Non\n",
      "---\n",
      "Non\n",
      "---\n",
      "Non\n",
      "---\n",
      "Oui\n",
      "---\n",
      "Oui\n",
      "---\n",
      "Oui\n",
      "---\n",
      "Non\n",
      "---\n",
      "Non\n",
      "---\n",
      "Non\n",
      "---\n",
      "Oui\n",
      "---\n"
     ]
    }
   ],
   "source": [
    "for reponse in df[q10].dropna().values:\n",
    "    print(reponse)\n",
    "    print('---')"
   ]
  },
  {
   "cell_type": "code",
   "execution_count": 122,
   "metadata": {},
   "outputs": [
    {
     "data": {
      "text/html": [
       "<table width=30%><tr><td><b>oui</b></td><td>6</td></tr><tr><td><b>non</b></td><td>4</td></tr></table>"
      ],
      "text/plain": [
       "{'oui': 6, 'non': 4}"
      ]
     },
     "metadata": {},
     "output_type": "display_data"
    },
    {
     "data": {
      "image/png": "[encoded data removed]",
      "text/plain": [
       "<Figure size 432x288 with 1 Axes>"
      ]
     },
     "metadata": {},
     "output_type": "display_data"
    }
   ],
   "source": [
    "reponses10 = {\n",
    "    'oui':df[q10].value_counts()[0],\n",
    "    'non':df[q10].value_counts()[1]\n",
    "}\n",
    "plt.pie(reponses10.values(), labels=reponses10.keys(),autopct='%1.1f%%');\n",
    "plt.title(df[q10].name)\n",
    "display(DictTable(tri_dico(reponses10)))"
   ]
  },
  {
   "cell_type": "markdown",
   "metadata": {},
   "source": [
    "## Q11 : _Classez par ordre de d'importance les informations que vous souhaiteriez trouver sur le site._"
   ]
  },
  {
   "cell_type": "code",
   "execution_count": 180,
   "metadata": {},
   "outputs": [
    {
     "data": {
      "text/html": [
       "<div>\n",
       "<style scoped>\n",
       "    .dataframe tbody tr th:only-of-type {\n",
       "        vertical-align: middle;\n",
       "    }\n",
       "\n",
       "    .dataframe tbody tr th {\n",
       "        vertical-align: top;\n",
       "    }\n",
       "\n",
       "    .dataframe thead th {\n",
       "        text-align: right;\n",
       "    }\n",
       "</style>\n",
       "<table border=\"1\" class=\"dataframe\">\n",
       "  <thead>\n",
       "    <tr style=\"text-align: right;\">\n",
       "      <th></th>\n",
       "      <th>Classez par ordre de d'importance les informations que vous souhaiteriez trouver sur le site. [Classement 1]</th>\n",
       "      <th>Classez par ordre de d'importance les informations que vous souhaiteriez trouver sur le site. [Classement 2]</th>\n",
       "      <th>Classez par ordre de d'importance les informations que vous souhaiteriez trouver sur le site. [Classement 3]</th>\n",
       "      <th>Classez par ordre de d'importance les informations que vous souhaiteriez trouver sur le site. [Classement 4]</th>\n",
       "      <th>Classez par ordre de d'importance les informations que vous souhaiteriez trouver sur le site. [Classement 5]</th>\n",
       "      <th>Classez par ordre de d'importance les informations que vous souhaiteriez trouver sur le site. [Classement 6]</th>\n",
       "      <th>Classez par ordre de d'importance les informations que vous souhaiteriez trouver sur le site. [Classement 7]</th>\n",
       "    </tr>\n",
       "  </thead>\n",
       "  <tbody>\n",
       "    <tr>\n",
       "      <th>0</th>\n",
       "      <td>Les différentes actions de BCD</td>\n",
       "      <td>Les partenaires</td>\n",
       "      <td>Les projets en cours</td>\n",
       "      <td>Le projet associatif</td>\n",
       "      <td>Les différents sites de BCD</td>\n",
       "      <td>Les salariés de l'association</td>\n",
       "      <td>NaN</td>\n",
       "    </tr>\n",
       "    <tr>\n",
       "      <th>2</th>\n",
       "      <td>Les différents sites de BCD</td>\n",
       "      <td>Les différentes actions de BCD</td>\n",
       "      <td>NaN</td>\n",
       "      <td>NaN</td>\n",
       "      <td>NaN</td>\n",
       "      <td>NaN</td>\n",
       "      <td>NaN</td>\n",
       "    </tr>\n",
       "    <tr>\n",
       "      <th>4</th>\n",
       "      <td>Les projets en cours</td>\n",
       "      <td>Le projet associatif</td>\n",
       "      <td>Les différentes actions de BCD</td>\n",
       "      <td>Les différents sites de BCD</td>\n",
       "      <td>Les partenaires</td>\n",
       "      <td>Les comptes rendus des assemblées générales</td>\n",
       "      <td>Les salariés de l'association</td>\n",
       "    </tr>\n",
       "    <tr>\n",
       "      <th>5</th>\n",
       "      <td>Les différentes actions de BCD</td>\n",
       "      <td>Le projet associatif</td>\n",
       "      <td>Les projets en cours</td>\n",
       "      <td>Les salariés de l'association</td>\n",
       "      <td>Les comptes rendus des assemblées générales</td>\n",
       "      <td>Les partenaires</td>\n",
       "      <td>Les différents sites de BCD</td>\n",
       "    </tr>\n",
       "    <tr>\n",
       "      <th>7</th>\n",
       "      <td>Les différents sites de BCD</td>\n",
       "      <td>Les différentes actions de BCD</td>\n",
       "      <td>Les partenaires</td>\n",
       "      <td>Le projet associatif</td>\n",
       "      <td>Les projets en cours</td>\n",
       "      <td>Les salariés de l'association</td>\n",
       "      <td>Les comptes rendus des assemblées générales</td>\n",
       "    </tr>\n",
       "    <tr>\n",
       "      <th>8</th>\n",
       "      <td>Les différents sites de BCD</td>\n",
       "      <td>Les différentes actions de BCD</td>\n",
       "      <td>Les projets en cours</td>\n",
       "      <td>Les partenaires</td>\n",
       "      <td>Le projet associatif</td>\n",
       "      <td>Les salariés de l'association</td>\n",
       "      <td>Les comptes rendus des assemblées générales</td>\n",
       "    </tr>\n",
       "    <tr>\n",
       "      <th>9</th>\n",
       "      <td>Les différents sites de BCD</td>\n",
       "      <td>Les projets en cours</td>\n",
       "      <td>Le projet associatif</td>\n",
       "      <td>Les différentes actions de BCD</td>\n",
       "      <td>Les partenaires</td>\n",
       "      <td>Les salariés de l'association</td>\n",
       "      <td>Les comptes rendus des assemblées générales</td>\n",
       "    </tr>\n",
       "    <tr>\n",
       "      <th>11</th>\n",
       "      <td>Les différents sites de BCD</td>\n",
       "      <td>Les projets en cours</td>\n",
       "      <td>Le projet associatif</td>\n",
       "      <td>Les différentes actions de BCD</td>\n",
       "      <td>Les partenaires</td>\n",
       "      <td>Les salariés de l'association</td>\n",
       "      <td>Les comptes rendus des assemblées générales</td>\n",
       "    </tr>\n",
       "    <tr>\n",
       "      <th>12</th>\n",
       "      <td>Le projet associatif</td>\n",
       "      <td>Les projets en cours</td>\n",
       "      <td>Les différents sites de BCD</td>\n",
       "      <td>Les différentes actions de BCD</td>\n",
       "      <td>Les salariés de l'association</td>\n",
       "      <td>Les partenaires</td>\n",
       "      <td>Les comptes rendus des assemblées générales</td>\n",
       "    </tr>\n",
       "    <tr>\n",
       "      <th>13</th>\n",
       "      <td>Les différentes actions de BCD</td>\n",
       "      <td>Les projets en cours</td>\n",
       "      <td>Les salariés de l'association</td>\n",
       "      <td>NaN</td>\n",
       "      <td>NaN</td>\n",
       "      <td>NaN</td>\n",
       "      <td>NaN</td>\n",
       "    </tr>\n",
       "    <tr>\n",
       "      <th>14</th>\n",
       "      <td>Les différents sites de BCD</td>\n",
       "      <td>Les différentes actions de BCD</td>\n",
       "      <td>Les projets en cours</td>\n",
       "      <td>Les partenaires</td>\n",
       "      <td>Le projet associatif</td>\n",
       "      <td>Les comptes rendus des assemblées générales</td>\n",
       "      <td>Les salariés de l'association</td>\n",
       "    </tr>\n",
       "  </tbody>\n",
       "</table>\n",
       "</div>"
      ],
      "text/plain": [
       "   Classez par ordre de d'importance les informations que vous souhaiteriez trouver sur le site. [Classement 1]  \\\n",
       "0                      Les différentes actions de BCD                                                             \n",
       "2                         Les différents sites de BCD                                                             \n",
       "4                                Les projets en cours                                                             \n",
       "5                      Les différentes actions de BCD                                                             \n",
       "7                         Les différents sites de BCD                                                             \n",
       "8                         Les différents sites de BCD                                                             \n",
       "9                         Les différents sites de BCD                                                             \n",
       "11                        Les différents sites de BCD                                                             \n",
       "12                               Le projet associatif                                                             \n",
       "13                     Les différentes actions de BCD                                                             \n",
       "14                        Les différents sites de BCD                                                             \n",
       "\n",
       "   Classez par ordre de d'importance les informations que vous souhaiteriez trouver sur le site. [Classement 2]  \\\n",
       "0                                     Les partenaires                                                             \n",
       "2                      Les différentes actions de BCD                                                             \n",
       "4                                Le projet associatif                                                             \n",
       "5                                Le projet associatif                                                             \n",
       "7                      Les différentes actions de BCD                                                             \n",
       "8                      Les différentes actions de BCD                                                             \n",
       "9                                Les projets en cours                                                             \n",
       "11                               Les projets en cours                                                             \n",
       "12                               Les projets en cours                                                             \n",
       "13                               Les projets en cours                                                             \n",
       "14                     Les différentes actions de BCD                                                             \n",
       "\n",
       "   Classez par ordre de d'importance les informations que vous souhaiteriez trouver sur le site. [Classement 3]  \\\n",
       "0                                Les projets en cours                                                             \n",
       "2                                                 NaN                                                             \n",
       "4                      Les différentes actions de BCD                                                             \n",
       "5                                Les projets en cours                                                             \n",
       "7                                     Les partenaires                                                             \n",
       "8                                Les projets en cours                                                             \n",
       "9                                Le projet associatif                                                             \n",
       "11                               Le projet associatif                                                             \n",
       "12                        Les différents sites de BCD                                                             \n",
       "13                      Les salariés de l'association                                                             \n",
       "14                               Les projets en cours                                                             \n",
       "\n",
       "   Classez par ordre de d'importance les informations que vous souhaiteriez trouver sur le site. [Classement 4]  \\\n",
       "0                                Le projet associatif                                                             \n",
       "2                                                 NaN                                                             \n",
       "4                         Les différents sites de BCD                                                             \n",
       "5                       Les salariés de l'association                                                             \n",
       "7                                Le projet associatif                                                             \n",
       "8                                     Les partenaires                                                             \n",
       "9                      Les différentes actions de BCD                                                             \n",
       "11                     Les différentes actions de BCD                                                             \n",
       "12                     Les différentes actions de BCD                                                             \n",
       "13                                                NaN                                                             \n",
       "14                                    Les partenaires                                                             \n",
       "\n",
       "   Classez par ordre de d'importance les informations que vous souhaiteriez trouver sur le site. [Classement 5]  \\\n",
       "0                         Les différents sites de BCD                                                             \n",
       "2                                                 NaN                                                             \n",
       "4                                     Les partenaires                                                             \n",
       "5         Les comptes rendus des assemblées générales                                                             \n",
       "7                                Les projets en cours                                                             \n",
       "8                                Le projet associatif                                                             \n",
       "9                                     Les partenaires                                                             \n",
       "11                                    Les partenaires                                                             \n",
       "12                      Les salariés de l'association                                                             \n",
       "13                                                NaN                                                             \n",
       "14                               Le projet associatif                                                             \n",
       "\n",
       "   Classez par ordre de d'importance les informations que vous souhaiteriez trouver sur le site. [Classement 6]  \\\n",
       "0                       Les salariés de l'association                                                             \n",
       "2                                                 NaN                                                             \n",
       "4         Les comptes rendus des assemblées générales                                                             \n",
       "5                                     Les partenaires                                                             \n",
       "7                       Les salariés de l'association                                                             \n",
       "8                       Les salariés de l'association                                                             \n",
       "9                       Les salariés de l'association                                                             \n",
       "11                      Les salariés de l'association                                                             \n",
       "12                                    Les partenaires                                                             \n",
       "13                                                NaN                                                             \n",
       "14        Les comptes rendus des assemblées générales                                                             \n",
       "\n",
       "   Classez par ordre de d'importance les informations que vous souhaiteriez trouver sur le site. [Classement 7]  \n",
       "0                                                 NaN                                                            \n",
       "2                                                 NaN                                                            \n",
       "4                       Les salariés de l'association                                                            \n",
       "5                         Les différents sites de BCD                                                            \n",
       "7         Les comptes rendus des assemblées générales                                                            \n",
       "8         Les comptes rendus des assemblées générales                                                            \n",
       "9         Les comptes rendus des assemblées générales                                                            \n",
       "11        Les comptes rendus des assemblées générales                                                            \n",
       "12        Les comptes rendus des assemblées générales                                                            \n",
       "13                                                NaN                                                            \n",
       "14                      Les salariés de l'association                                                            "
      ]
     },
     "execution_count": 180,
     "metadata": {},
     "output_type": "execute_result"
    }
   ],
   "source": [
    "q11 = \"Classez par ordre de d'importance les informations que vous souhaiteriez trouver sur le site\"\n",
    "df[df.columns[17:-1]]"
   ]
  },
  {
   "cell_type": "code",
   "execution_count": 176,
   "metadata": {},
   "outputs": [],
   "source": [
    "reponses11 = {\n",
    "    'Les différents sites de BCD':0,\n",
    "    'Les différentes actions de BCD':0,\n",
    "    'Le projet associatif':0,\n",
    "    'Les projets en cours':0,\n",
    "    'Les partenaires':0,\n",
    "    \"Les salariés de l'association\":0,\n",
    "    'Les comptes rendus des assemblées générales':0\n",
    "}\n",
    "tx = 7\n",
    "for i in range(17,24):\n",
    "    for v in df[df.columns[i]]:\n",
    "        if v in reponses11:\n",
    "            reponses11[v] += tx\n",
    "    tx -= 1"
   ]
  },
  {
   "cell_type": "code",
   "execution_count": 182,
   "metadata": {},
   "outputs": [
    {
     "data": {
      "text/html": [
       "<table width=30%><tr><td><b>Les différentes actions de BCD</b></td><td>62</td></tr><tr><td><b>Les différents sites de BCD</b></td><td>55</td></tr><tr><td><b>Les projets en cours</b></td><td>54</td></tr><tr><td><b>Le projet associatif</b></td><td>43</td></tr><tr><td><b>Les partenaires</b></td><td>32</td></tr><tr><td><b>Les salariés de l'association</b></td><td>24</td></tr><tr><td><b>Les comptes rendus des assemblées générales</b></td><td>12</td></tr></table>"
      ],
      "text/plain": [
       "{'Les différentes actions de BCD': 62,\n",
       " 'Les différents sites de BCD': 55,\n",
       " 'Les projets en cours': 54,\n",
       " 'Le projet associatif': 43,\n",
       " 'Les partenaires': 32,\n",
       " \"Les salariés de l'association\": 24,\n",
       " 'Les comptes rendus des assemblées générales': 12}"
      ]
     },
     "metadata": {},
     "output_type": "display_data"
    },
    {
     "data": {
      "image/png": "[encoded data removed]",
      "text/plain": [
       "<Figure size 432x288 with 1 Axes>"
      ]
     },
     "metadata": {},
     "output_type": "display_data"
    }
   ],
   "source": [
    "plt.pie(reponses11.values(), labels=reponses11.keys(),autopct='%1.1f%%');\n",
    "plt.title(q11)\n",
    "display(DictTable(tri_dico(reponses11)))"
   ]
  },
  {
   "cell_type": "markdown",
   "metadata": {},
   "source": [
    "## Q12 : _Commentaires libres_"
   ]
  },
  {
   "cell_type": "code",
   "execution_count": 184,
   "metadata": {},
   "outputs": [
    {
     "name": "stdout",
     "output_type": "stream",
     "text": [
      "Nombre de réponses : 5\n"
     ]
    }
   ],
   "source": [
    "q12 = \"Commentaires libres\"\n",
    "print('Nombre de réponses : {}'.format(len(df[q12].dropna())))"
   ]
  },
  {
   "cell_type": "code",
   "execution_count": 185,
   "metadata": {},
   "outputs": [
    {
     "name": "stdout",
     "output_type": "stream",
     "text": [
      "Je n'ai rien à ajouter, je viendrai plus souvent sur le site.\n",
      "---\n",
      "Merci de votre sollicitation et plein de succès pour ce travail d'amélioration!\n",
      "---\n",
      "Valoriser le rôle et la spécificité des chaque site et les projets en cours\n",
      "---\n",
      "Pouvez-vous mettre une annotation pour le terme slider n ayant pas été avec un ordinateur dans les mains je ne connaissais pas ce terme de plus sur Google plusieurs significations . J espère que les réponses vous aiderons bonne journée cordialement\n",
      "---\n",
      "A mon avis il serait préférable de classer les documents par thèmes au lieu de tout avoir sur le même site. Il est compliqué de comprendre ce qu’il y a dans les différents sites Bécédia, Bretania, BED, PCI… et où sont les choses. J’ai trouvé un tas de choses intéressantes sur le site mais il est quasi impossible de les retrouver par la suite. Rien à voir avec le site, mais il serait intéressant d’ouvrir les portes de BCD, en recevant du monde, organisant des événements et/ou expositions pour mettre en lumière votre très bon travail. Au revoir ! Nikolaz Rouzig\n",
      "---\n"
     ]
    }
   ],
   "source": [
    "for reponse in df[q12].dropna().values:\n",
    "    print(reponse)\n",
    "    print('---')"
   ]
  },
  {
   "cell_type": "code",
   "execution_count": null,
   "metadata": {},
   "outputs": [],
   "source": []
  }
 ],
 "metadata": {
  "kernelspec": {
   "display_name": "Python 3",
   "language": "python",
   "name": "python3"
  },
  "language_info": {
   "codemirror_mode": {
    "name": "ipython",
    "version": 3
   },
   "file_extension": ".py",
   "mimetype": "text/x-python",
   "name": "python",
   "nbconvert_exporter": "python",
   "pygments_lexer": "ipython3",
   "version": "3.8.1"
  }
 },
 "nbformat": 4,
 "nbformat_minor": 4
}
